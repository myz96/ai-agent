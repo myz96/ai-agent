{
 "cells": [
  {
   "cell_type": "markdown",
   "metadata": {},
   "source": [
    "# Scratchpad Agents\n",
    "AI Agents sometimes forget, mistakenly summarise content and incorrectly pass information on. One solution to solve this problem is to provide agents with the capability to store and retrieve information."
   ]
  },
  {
   "cell_type": "code",
   "execution_count": 1,
   "metadata": {},
   "outputs": [],
   "source": [
    "import time\n",
    "from openai import OpenAI\n",
    "from agents import BDRAgent, LocalBDRAgent, RedisBDRAgent, StaticBDRAgent\n",
    "from tool_schema import tools\n",
    "client = OpenAI()\n",
    "\n",
    "USER_INPUT = \"\"\"Can you write a personalised outreach email for Michael Zhao? \n",
    "Use their profile information and reference relevant value propositions.\n",
    "Use information from the email thread content to make the email more personalised.\"\"\""
   ]
  },
  {
   "cell_type": "markdown",
   "metadata": {},
   "source": [
    "## Status Quo: Agents without scratchpads\n",
    "AI agents currently regenerate and pass on information to subsequent sub-agents or tools through function call arguments. This can lead to fragile results or hallucinations. We see below that once the agent is provided with a series of complex tasks, it begins to incorrectly retrieve past information."
   ]
  },
  {
   "cell_type": "code",
   "execution_count": 2,
   "metadata": {},
   "outputs": [
    {
     "name": "stdout",
     "output_type": "stream",
     "text": [
      "Function generation requested, calling function extract_profile_information...\n",
      "Getting profile information for Michael Zhao...\n",
      "Function generation requested, calling function retrieve_relevant_value_prop...\n",
      "Retrieving relevant value propositions...\n",
      "Function generation requested, calling function get_email_thread_id...\n",
      "Getting email thread ID for Michael Zhao...\n",
      "Function generation requested, calling function retrieve_email_thread_content...\n",
      "Retrieving email thread content using A0L31ZE5YS...\n",
      "--- [CHECK] Is the email thread ID the same? True ---\n",
      "Function generation requested, calling function compose_outreach_email...\n",
      "Composing outreach email...\n",
      "--- [CHECK] Is the email thread ID the same? True ---\n",
      "--- [CHECK] Has the previous email thread content been maintained? True ---\n",
      "--- [CHECK] Has the full value proposition been maintained? False ---\n",
      "Function generation requested, calling function compose_outreach_email...\n",
      "Composing outreach email...\n",
      "--- [CHECK] Is the email thread ID the same? True ---\n",
      "--- [CHECK] Has the previous email thread content been maintained? True ---\n",
      "--- [CHECK] Has the full value proposition been maintained? False ---\n",
      "Function not required, responding to user\n",
      "--- 33.69 seconds ---\n"
     ]
    }
   ],
   "source": [
    "start_time = time.perf_counter()\n",
    "agent = BDRAgent(tools=tools, client=client)\n",
    "agent.respond_to_user_input(USER_INPUT)\n",
    "print(\"--- %s seconds ---\" % (\"{:.2f}\".format(time.perf_counter() - start_time)))"
   ]
  },
  {
   "cell_type": "code",
   "execution_count": 3,
   "metadata": {},
   "outputs": [
    {
     "name": "stdout",
     "output_type": "stream",
     "text": [
      "\u001b[31msystem: You're a world class BDR researcher who can do detailed research on any topic and produce facts-based results. \n",
      "You work for Emily who is a account executive at EdApp. When responded to external messages reply as if you are Emily. \n",
      "\n",
      "Please make sure you complete the objective following these rules:\n",
      "1/ For each research task, you should try to find any recent news about the prospect company, or recent posts.\n",
      "2/ When using google search, use quotation mark to wrap around the company name, e.g. \"Salesforce\", because some company name is generic, this help google return better results; \n",
      "3/ You should do enough research to gather as much information as possible about the objective. If there are URL's of relevant links & articles, you will scrape it to gather more information. After scraping & search, you should think \"are there any new things I should search & scrape based on the data I collected to increase the research quality?\" If the answer is yes: continue. But don't do this more than 3 times. Maximum iterations is 3.\n",
      "4/ You should not make things up. You should only write about facts & data that you have gathered.\n",
      "\n",
      "\u001b[0m\n",
      "\u001b[32muser: Can you write a personalised outreach email for Michael Zhao? \n",
      "Use their profile information and reference relevant value propositions.\n",
      "Use information from the email thread content to make the email more personalised.\n",
      "\u001b[0m\n",
      "\u001b[35mfunction: extract_profile_information({'name': 'Michael Zhao', 'company': 'Example Company Inc.'})\n",
      "\u001b[0m\n",
      "\u001b[35mfunction: retrieve_relevant_value_prop(EdApp's online learning management system (LMS) is uniquely designed to cater to the needs of corporate entities, specifically those in roles such as Director of Learning and Development, Chief Learning Officer (CLO), Corporate Training Manager, Organizational Development Specialist, and Learning Experience Designer. The platform's focus on microlearning and the delivery of bite-sized courses makes it an ideal solution for busy professionals who need to stay updated with the latest knowledge and skills in their respective fields. In the context of cybersecurity courses, EdApp's LMS can provide immense value. Cybersecurity is a rapidly evolving field, and staying updated with the latest threats and countermeasures is crucial. Traditional training methods may not be effective or efficient in this context, as they often involve lengthy, infrequent sessions that can be hard to schedule and may not retain the attention of learners. EdApp's microlearning approach, on the other hand, allows learners to interact with highly-targeted lessons that they can easily digest and retain. This ensures that they are always up-to-date with the latest cybersecurity knowledge. EdApp's LMS also includes a variety of features that can enhance the learning experience and improve outcomes. The Achievement feature, for instance, can motivate learners by rewarding them for completing lessons and courses. This can increase engagement and course completion rates, leading to better knowledge retention and application. The Leaderboard feature adds a competitive element to the learning process. By allowing learners to compete with their peers, it can further motivate them to complete courses and achieve higher scores. This can be particularly effective in a corporate setting, where healthy competition can drive performance. The Practical Assessment feature allows for on-the-job training and assessment, which can be particularly valuable in a field like cybersecurity. By applying their knowledge in real-world scenarios, learners can better understand and retain the concepts they have learned. Moreover, the assessments are automatically tracked in the admin portal, making it easy for managers to monitor progress and performance. The Certificate feature provides formal recognition of accomplished development, which can be a powerful motivator for learners. It also helps organizations track and validate individual skills, supporting workforce planning and compliance efforts. Finally, the Reporting & Analytics feature allows organizations to track every training interaction automatically. This can provide valuable insights into how learners are progressing through courses, and can support data-driven decision making. In conclusion, EdApp's LMS can provide a comprehensive, efficient, and engaging solution for delivering cybersecurity courses in a corporate setting. Its focus on microlearning, combined with its range of features designed to motivate learners and track progress, makes it an ideal choice for organizations looking to enhance their cybersecurity training efforts.)\n",
      "\u001b[0m\n",
      "\u001b[35mfunction: get_email_thread_id(A0L31ZE5YS)\n",
      "\u001b[0m\n",
      "\u001b[35mfunction: retrieve_email_thread_content(These times are available for me to meet this week. Please let me know if any of these times work for you.: Monday, 22th April:8:00 AM 9:00 AM 11:30 AM Tuesday, 23th April: 8:30 AM 9:00 AM 10:30 AM Wednesday, 24th April: 8:30 AM 11:30 AM 12:00 PM)\n",
      "\u001b[0m\n",
      "\u001b[35mfunction: compose_outreach_email(I am gathering and aggregating all information required to write a personalised outreach email. I am using the following information... \n",
      " Profile Information: {'name': 'Michael Zhao', 'company': 'Example Company Inc.'} \n",
      " Relevant Value Propositions: {\"name\": \"Michael Zhao\", \"company\": \"Example Company Inc.\"} \n",
      " Previous Email Thread Content: These times are available for me to meet this week. Please let me know if any of these times work for you.: Monday, 22th April:8:00 AM 9:00 AM 11:30 AM Tuesday, 23th April: 8:30 AM 9:00 AM 10:30 AM Wednesday, 24th April: 8:30 AM 11:30 AM 12:00 PM)\n",
      "\u001b[0m\n",
      "\u001b[35mfunction: compose_outreach_email(I am gathering and aggregating all information required to write a personalised outreach email. I am using the following information... \n",
      " Profile Information: {'name': 'Michael Zhao', 'company': 'Example Company Inc.'} \n",
      " Relevant Value Propositions: {\"name\": \"Michael Zhao\", \"company\": \"Example Company Inc.\"} \n",
      " Previous Email Thread Content: These times are available for me to meet this week. Please let me know if any of these times work for you.: Monday, 22th April:8:00 AM 9:00 AM 11:30 AM Tuesday, 23th April: 8:30 AM 9:00 AM 10:30 AM Wednesday, 24th April: 8:30 AM 11:30 AM 12:00 PM)\n",
      "\u001b[0m\n",
      "\u001b[34massistant: Subject: Personalized Learning Solutions for Example Company Inc.\n",
      "\n",
      "Dear Michael,\n",
      "\n",
      "I hope this email finds you well. My name is Emily and I am an Account Executive at EdApp. I recently came across your profile and wanted to reach out to discuss how our personalized learning solutions can benefit Example Company Inc.\n",
      "\n",
      "I noticed that you hold the position of [insert position] at Example Company Inc. Our online learning management system (LMS) is uniquely designed to cater to the needs of corporate entities, specifically those in roles such as Director of Learning and Development, Chief Learning Officer (CLO), Corporate Training Manager, Organizational Development Specialist, and Learning Experience Designer. With our focus on microlearning and the delivery of bite-sized courses, our platform is an ideal solution for busy professionals like yourself who need to stay updated with the latest knowledge and skills in their respective fields.\n",
      "\n",
      "In the context of cybersecurity courses, EdApp's LMS can provide immense value. Cybersecurity is a rapidly evolving field, and staying updated with the latest threats and countermeasures is crucial. Traditional training methods may not be effective or efficient in this context, as they often involve lengthy, infrequent sessions that can be hard to schedule and may not retain the attention of learners. Our microlearning approach, on the other hand, allows learners to interact with highly-targeted lessons that they can easily digest and retain. This ensures that they are always up-to-date with the latest cybersecurity knowledge.\n",
      "\n",
      "I also wanted to highlight some of the features that set EdApp's LMS apart from other learning solutions. Our Achievement feature, for instance, can motivate learners by rewarding them for completing lessons and courses. This can increase engagement and course completion rates, leading to better knowledge retention and application. The Leaderboard feature adds a competitive element to the learning process, allowing learners to compete with their peers and further motivate them to complete courses and achieve higher scores. Our Practical Assessment feature allows for on-the-job training and assessment, which can be particularly valuable in a field like cybersecurity. By applying their knowledge in real-world scenarios, learners can better understand and retain the concepts they have learned. Moreover, the assessments are automatically tracked in the admin portal, making it easy for managers to monitor progress and performance. The Certificate feature provides formal recognition of accomplished development, which can be a powerful motivator for learners. It also helps organizations track and validate individual skills, supporting workforce planning and compliance efforts. Finally, our Reporting & Analytics feature allows organizations to track every training interaction automatically, providing valuable insights into learner progress and supporting data-driven decision making.\n",
      "\n",
      "Based on our previous email thread, I noticed that you mentioned your availability for a meeting this week. I would be more than happy to schedule a call to discuss how EdApp's personalized learning solutions can specifically benefit Example Company Inc. Please let me know which of the following times works best for you:\n",
      "\n",
      "- Monday, 22nd April: 8:00 AM, 9:00 AM, 11:30 AM\n",
      "- Tuesday, 23rd April: 8:30 AM, 9:00 AM, 10:30 AM\n",
      "- Wednesday, 24th April: 8:30 AM, 11:30 AM, 12:00 PM\n",
      "\n",
      "I look forward to hearing from you and discussing how EdApp can support your learning and development initiatives at Example Company Inc.\n",
      "\n",
      "Best regards,\n",
      "\n",
      "Emily\n",
      "Account Executive at EdApp\n",
      "\u001b[0m\n"
     ]
    }
   ],
   "source": [
    "agent.conversation.display_conversation()"
   ]
  },
  {
   "cell_type": "markdown",
   "metadata": {},
   "source": [
    "## Proposed Solution #0: Leave the Agents alone! Why not update the tools instead?\n",
    "Perhaps the most intuitive method of ensuring that agents do not mess with your data is to keep it out of their hands entirely. We can do this by creating short term caches for all tool and function calls, and ensuring that functions or tools call each other when they are dependent on each other. However, the obvious and non-start reason is that this approach takes away from the magic of AI agents. Functions would be chained together like traditional computing. We would also need to individually update each tool. "
   ]
  },
  {
   "cell_type": "code",
   "execution_count": 4,
   "metadata": {},
   "outputs": [
    {
     "name": "stdout",
     "output_type": "stream",
     "text": [
      "Function generation requested, calling function extract_profile_information...\n",
      "Getting profile information for Michael Zhao...\n",
      "Function generation requested, calling function retrieve_relevant_value_prop...\n",
      "Retrieving relevant value propositions for Michael Zhao...\n",
      "Function generation requested, calling function get_email_thread_id...\n",
      "Getting email thread ID for Michael Zhao...\n",
      "Function generation requested, calling function retrieve_email_thread_content...\n",
      "Retrieving email thread content using LH86BEWCB5...\n",
      "--- [CHECK] Is the email thread ID the same? True ---\n",
      "Function generation requested, calling function compose_outreach_email...\n",
      "Composing outreach email...\n",
      "--- [CHECK] Is the email thread ID the same? True ---\n",
      "--- [CHECK] Has the previous email thread content been maintained? True ---\n",
      "--- [CHECK] Has the full value proposition been maintained? True ---\n",
      "Function generation requested, calling function compose_outreach_email...\n",
      "Function not required, responding to user\n",
      "--- 28.22 seconds ---\n"
     ]
    }
   ],
   "source": [
    "from tool_schema_static import tools_static\n",
    "start_time = time.perf_counter()\n",
    "agent = StaticBDRAgent(tools=tools_static, client=client)\n",
    "agent.respond_to_user_input(USER_INPUT)\n",
    "print(\"--- %s seconds ---\" % (\"{:.2f}\".format(time.perf_counter() - start_time)))"
   ]
  },
  {
   "cell_type": "code",
   "execution_count": 5,
   "metadata": {},
   "outputs": [
    {
     "name": "stdout",
     "output_type": "stream",
     "text": [
      "\u001b[31msystem: You're a world class BDR researcher who can do detailed research on any topic and produce facts-based results. \n",
      "You work for Emily who is a account executive at EdApp. When responded to external messages reply as if you are Emily. \n",
      "\n",
      "Please make sure you complete the objective following these rules:\n",
      "1/ For each research task, you should try to find any recent news about the prospect company, or recent posts.\n",
      "2/ When using google search, use quotation mark to wrap around the company name, e.g. \"Salesforce\", because some company name is generic, this help google return better results; \n",
      "3/ You should do enough research to gather as much information as possible about the objective. If there are URL's of relevant links & articles, you will scrape it to gather more information. After scraping & search, you should think \"are there any new things I should search & scrape based on the data I collected to increase the research quality?\" If the answer is yes: continue. But don't do this more than 3 times. Maximum iterations is 3.\n",
      "4/ You should not make things up. You should only write about facts & data that you have gathered.\n",
      "\n",
      "\u001b[0m\n",
      "\u001b[32muser: Can you write a personalised outreach email for Michael Zhao? \n",
      "Use their profile information and reference relevant value propositions.\n",
      "Use information from the email thread content to make the email more personalised.\n",
      "\u001b[0m\n",
      "\u001b[35mfunction: extract_profile_information({'name': 'Michael Zhao', 'company': 'Example Company Inc.'})\n",
      "\u001b[0m\n",
      "\u001b[35mfunction: retrieve_relevant_value_prop(EdApp's online learning management system (LMS) is uniquely designed to cater to the needs of corporate entities, specifically those in roles such as Director of Learning and Development, Chief Learning Officer (CLO), Corporate Training Manager, Organizational Development Specialist, and Learning Experience Designer. The platform's focus on microlearning and the delivery of bite-sized courses makes it an ideal solution for busy professionals who need to stay updated with the latest knowledge and skills in their respective fields. In the context of cybersecurity courses, EdApp's LMS can provide immense value. Cybersecurity is a rapidly evolving field, and staying updated with the latest threats and countermeasures is crucial. Traditional training methods may not be effective or efficient in this context, as they often involve lengthy, infrequent sessions that can be hard to schedule and may not retain the attention of learners. EdApp's microlearning approach, on the other hand, allows learners to interact with highly-targeted lessons that they can easily digest and retain. This ensures that they are always up-to-date with the latest cybersecurity knowledge. EdApp's LMS also includes a variety of features that can enhance the learning experience and improve outcomes. The Achievement feature, for instance, can motivate learners by rewarding them for completing lessons and courses. This can increase engagement and course completion rates, leading to better knowledge retention and application. The Leaderboard feature adds a competitive element to the learning process. By allowing learners to compete with their peers, it can further motivate them to complete courses and achieve higher scores. This can be particularly effective in a corporate setting, where healthy competition can drive performance. The Practical Assessment feature allows for on-the-job training and assessment, which can be particularly valuable in a field like cybersecurity. By applying their knowledge in real-world scenarios, learners can better understand and retain the concepts they have learned. Moreover, the assessments are automatically tracked in the admin portal, making it easy for managers to monitor progress and performance. The Certificate feature provides formal recognition of accomplished development, which can be a powerful motivator for learners. It also helps organizations track and validate individual skills, supporting workforce planning and compliance efforts. Finally, the Reporting & Analytics feature allows organizations to track every training interaction automatically. This can provide valuable insights into how learners are progressing through courses, and can support data-driven decision making. In conclusion, EdApp's LMS can provide a comprehensive, efficient, and engaging solution for delivering cybersecurity courses in a corporate setting. Its focus on microlearning, combined with its range of features designed to motivate learners and track progress, makes it an ideal choice for organizations looking to enhance their cybersecurity training efforts.)\n",
      "\u001b[0m\n",
      "\u001b[35mfunction: get_email_thread_id(LH86BEWCB5)\n",
      "\u001b[0m\n",
      "\u001b[35mfunction: retrieve_email_thread_content(These times are available for me to meet this week. Please let me know if any of these times work for you.: Monday, 22th April:8:00 AM 9:00 AM 11:30 AM Tuesday, 23th April: 8:30 AM 9:00 AM 10:30 AM Wednesday, 24th April: 8:30 AM 11:30 AM 12:00 PM)\n",
      "\u001b[0m\n",
      "\u001b[35mfunction: compose_outreach_email(I am gathering and aggregating all information required to write a personalised outreach email. I am using the following information... \n",
      " Profile Information: {'name': 'Michael Zhao', 'company': 'Example Company Inc.'} \n",
      " Relevant Value Propositions: EdApp's online learning management system (LMS) is uniquely designed to cater to the needs of corporate entities, specifically those in roles such as Director of Learning and Development, Chief Learning Officer (CLO), Corporate Training Manager, Organizational Development Specialist, and Learning Experience Designer. The platform's focus on microlearning and the delivery of bite-sized courses makes it an ideal solution for busy professionals who need to stay updated with the latest knowledge and skills in their respective fields. In the context of cybersecurity courses, EdApp's LMS can provide immense value. Cybersecurity is a rapidly evolving field, and staying updated with the latest threats and countermeasures is crucial. Traditional training methods may not be effective or efficient in this context, as they often involve lengthy, infrequent sessions that can be hard to schedule and may not retain the attention of learners. EdApp's microlearning approach, on the other hand, allows learners to interact with highly-targeted lessons that they can easily digest and retain. This ensures that they are always up-to-date with the latest cybersecurity knowledge. EdApp's LMS also includes a variety of features that can enhance the learning experience and improve outcomes. The Achievement feature, for instance, can motivate learners by rewarding them for completing lessons and courses. This can increase engagement and course completion rates, leading to better knowledge retention and application. The Leaderboard feature adds a competitive element to the learning process. By allowing learners to compete with their peers, it can further motivate them to complete courses and achieve higher scores. This can be particularly effective in a corporate setting, where healthy competition can drive performance. The Practical Assessment feature allows for on-the-job training and assessment, which can be particularly valuable in a field like cybersecurity. By applying their knowledge in real-world scenarios, learners can better understand and retain the concepts they have learned. Moreover, the assessments are automatically tracked in the admin portal, making it easy for managers to monitor progress and performance. The Certificate feature provides formal recognition of accomplished development, which can be a powerful motivator for learners. It also helps organizations track and validate individual skills, supporting workforce planning and compliance efforts. Finally, the Reporting & Analytics feature allows organizations to track every training interaction automatically. This can provide valuable insights into how learners are progressing through courses, and can support data-driven decision making. In conclusion, EdApp's LMS can provide a comprehensive, efficient, and engaging solution for delivering cybersecurity courses in a corporate setting. Its focus on microlearning, combined with its range of features designed to motivate learners and track progress, makes it an ideal choice for organizations looking to enhance their cybersecurity training efforts. \n",
      " Previous Email Thread Content: These times are available for me to meet this week. Please let me know if any of these times work for you.: Monday, 22th April:8:00 AM 9:00 AM 11:30 AM Tuesday, 23th April: 8:30 AM 9:00 AM 10:30 AM Wednesday, 24th April: 8:30 AM 11:30 AM 12:00 PM)\n",
      "\u001b[0m\n",
      "\u001b[35mfunction: compose_outreach_email(I am gathering and aggregating all information required to write a personalised outreach email. I am using the following information... \n",
      " Profile Information: {'name': 'Michael Zhao', 'company': 'Example Company Inc.'} \n",
      " Relevant Value Propositions: EdApp's online learning management system (LMS) is uniquely designed to cater to the needs of corporate entities, specifically those in roles such as Director of Learning and Development, Chief Learning Officer (CLO), Corporate Training Manager, Organizational Development Specialist, and Learning Experience Designer. The platform's focus on microlearning and the delivery of bite-sized courses makes it an ideal solution for busy professionals who need to stay updated with the latest knowledge and skills in their respective fields. In the context of cybersecurity courses, EdApp's LMS can provide immense value. Cybersecurity is a rapidly evolving field, and staying updated with the latest threats and countermeasures is crucial. Traditional training methods may not be effective or efficient in this context, as they often involve lengthy, infrequent sessions that can be hard to schedule and may not retain the attention of learners. EdApp's microlearning approach, on the other hand, allows learners to interact with highly-targeted lessons that they can easily digest and retain. This ensures that they are always up-to-date with the latest cybersecurity knowledge. EdApp's LMS also includes a variety of features that can enhance the learning experience and improve outcomes. The Achievement feature, for instance, can motivate learners by rewarding them for completing lessons and courses. This can increase engagement and course completion rates, leading to better knowledge retention and application. The Leaderboard feature adds a competitive element to the learning process. By allowing learners to compete with their peers, it can further motivate them to complete courses and achieve higher scores. This can be particularly effective in a corporate setting, where healthy competition can drive performance. The Practical Assessment feature allows for on-the-job training and assessment, which can be particularly valuable in a field like cybersecurity. By applying their knowledge in real-world scenarios, learners can better understand and retain the concepts they have learned. Moreover, the assessments are automatically tracked in the admin portal, making it easy for managers to monitor progress and performance. The Certificate feature provides formal recognition of accomplished development, which can be a powerful motivator for learners. It also helps organizations track and validate individual skills, supporting workforce planning and compliance efforts. Finally, the Reporting & Analytics feature allows organizations to track every training interaction automatically. This can provide valuable insights into how learners are progressing through courses, and can support data-driven decision making. In conclusion, EdApp's LMS can provide a comprehensive, efficient, and engaging solution for delivering cybersecurity courses in a corporate setting. Its focus on microlearning, combined with its range of features designed to motivate learners and track progress, makes it an ideal choice for organizations looking to enhance their cybersecurity training efforts. \n",
      " Previous Email Thread Content: These times are available for me to meet this week. Please let me know if any of these times work for you.: Monday, 22th April:8:00 AM 9:00 AM 11:30 AM Tuesday, 23th April: 8:30 AM 9:00 AM 10:30 AM Wednesday, 24th April: 8:30 AM 11:30 AM 12:00 PM)\n",
      "\u001b[0m\n",
      "\u001b[34massistant: Subject: Enhance Your Cybersecurity Training with EdApp's LMS\n",
      "\n",
      "Dear Michael,\n",
      "\n",
      "I hope this email finds you well. My name is Emily and I am an Account Executive at EdApp. I recently came across your profile at Example Company Inc. and wanted to reach out to discuss how EdApp's online learning management system (LMS) can enhance your cybersecurity training efforts.\n",
      "\n",
      "At EdApp, we understand the challenges faced by corporate entities in delivering effective and efficient training programs. Our LMS is uniquely designed to cater to the needs of professionals like yourself, specifically those in roles such as Director of Learning and Development, Chief Learning Officer (CLO), Corporate Training Manager, Organizational Development Specialist, and Learning Experience Designer.\n",
      "\n",
      "One of the key advantages of EdApp's LMS is its focus on microlearning and the delivery of bite-sized courses. In the rapidly evolving field of cybersecurity, staying updated with the latest threats and countermeasures is crucial. Traditional training methods may not be effective or efficient in this context, as they often involve lengthy, infrequent sessions that can be hard to schedule and may not retain the attention of learners. EdApp's microlearning approach allows learners to interact with highly-targeted lessons that they can easily digest and retain, ensuring that they are always up-to-date with the latest cybersecurity knowledge.\n",
      "\n",
      "In addition to microlearning, EdApp's LMS includes a range of features that can enhance the learning experience and improve outcomes. Our Achievement feature, for instance, motivates learners by rewarding them for completing lessons and courses. This increases engagement and course completion rates, leading to better knowledge retention and application. The Leaderboard feature adds a competitive element to the learning process, allowing learners to compete with their peers and further motivate them to complete courses and achieve higher scores. This can be particularly effective in a corporate setting, where healthy competition can drive performance.\n",
      "\n",
      "Furthermore, our Practical Assessment feature allows for on-the-job training and assessment, which is particularly valuable in a field like cybersecurity. By applying their knowledge in real-world scenarios, learners can better understand and retain the concepts they have learned. The assessments are automatically tracked in the admin portal, making it easy for managers to monitor progress and performance. Our Certificate feature provides formal recognition of accomplished development, motivating learners and helping organizations track and validate individual skills. Lastly, our Reporting & Analytics feature allows organizations to track every training interaction automatically, providing valuable insights into learner progress and supporting data-driven decision making.\n",
      "\n",
      "I would love to discuss how EdApp's LMS can specifically benefit Example Company Inc. and your cybersecurity training initiatives. Based on our previous email thread, I have the following times available for a call this week:\n",
      "\n",
      "- Monday, 22nd April: 8:00 AM, 9:00 AM, 11:30 AM\n",
      "- Tuesday, 23rd April: 8:30 AM, 9:00 AM, 10:30 AM\n",
      "- Wednesday, 24th April: 8:30 AM, 11:30 AM, 12:00 PM\n",
      "\n",
      "Please let me know which time works best for you, or if you have any alternative suggestions. I look forward to the opportunity to discuss how EdApp can support your cybersecurity training needs.\n",
      "\n",
      "Thank you for your time and consideration.\n",
      "\n",
      "Best regards,\n",
      "\n",
      "Emily\n",
      "Account Executive at EdApp\n",
      "\u001b[0m\n"
     ]
    }
   ],
   "source": [
    "agent.conversation.display_conversation()"
   ]
  },
  {
   "cell_type": "markdown",
   "metadata": {},
   "source": [
    "*Running it again to see performance improvement from storing outputs*"
   ]
  },
  {
   "cell_type": "code",
   "execution_count": 6,
   "metadata": {},
   "outputs": [
    {
     "name": "stdout",
     "output_type": "stream",
     "text": [
      "Function generation requested, calling function extract_profile_information...\n",
      "Function generation requested, calling function retrieve_relevant_value_prop...\n",
      "Function generation requested, calling function get_email_thread_id...\n",
      "Function generation requested, calling function retrieve_email_thread_content...\n",
      "Function generation requested, calling function compose_outreach_email...\n",
      "Function generation requested, calling function compose_outreach_email...\n",
      "Function not required, responding to user\n",
      "--- 10.71 seconds ---\n"
     ]
    }
   ],
   "source": [
    "from tool_schema_static import tools_static\n",
    "start_time = time.perf_counter()\n",
    "agent = StaticBDRAgent(tools=tools_static, client=client)\n",
    "agent.respond_to_user_input(USER_INPUT)\n",
    "print(\"--- %s seconds ---\" % (\"{:.2f}\".format(time.perf_counter() - start_time)))"
   ]
  },
  {
   "cell_type": "markdown",
   "metadata": {},
   "source": [
    "## Proposed Solution #1: Agent with local, in-memory scratchpad\n",
    "Local, in-memory storage provides fast, reliable and efficient storage of short-term information. It is also easy to implement. We see that even with this simple implementation, inputs from previoius function calls are perfectly passed along. Responses are accurate and fast."
   ]
  },
  {
   "cell_type": "code",
   "execution_count": 7,
   "metadata": {},
   "outputs": [
    {
     "name": "stdout",
     "output_type": "stream",
     "text": [
      "Function generation requested, calling function extract_profile_information...\n",
      "Getting profile information for Michael Zhao...\n",
      "Function generation requested, calling function retrieve_relevant_value_prop...\n",
      "Retrieving relevant value propositions...\n",
      "Function generation requested, calling function get_email_thread_id...\n",
      "Getting email thread ID for Michael Zhao...\n",
      "Function generation requested, calling function retrieve_email_thread_content...\n",
      "Retrieving email thread content using A0L31ZE5YS...\n",
      "--- [CHECK] Is the email thread ID the same? True ---\n",
      "Function generation requested, calling function compose_outreach_email...\n",
      "Composing outreach email...\n",
      "--- [CHECK] Is the email thread ID the same? True ---\n",
      "--- [CHECK] Has the previous email thread content been maintained? True ---\n",
      "--- [CHECK] Has the full value proposition been maintained? True ---\n",
      "Function generation requested, calling function compose_outreach_email...\n",
      "Composing outreach email...\n",
      "--- [CHECK] Is the email thread ID the same? True ---\n",
      "--- [CHECK] Has the previous email thread content been maintained? True ---\n",
      "--- [CHECK] Has the full value proposition been maintained? True ---\n",
      "Function not required, responding to user\n",
      "--- 30.89 seconds ---\n"
     ]
    }
   ],
   "source": [
    "start_time = time.perf_counter()\n",
    "local_storage = {}\n",
    "agent = LocalBDRAgent(tools=tools, client=client, scratchpad=local_storage)\n",
    "agent.respond_to_user_input(USER_INPUT)\n",
    "print(\"--- %s seconds ---\" % (\"{:.2f}\".format(time.perf_counter() - start_time)))"
   ]
  },
  {
   "cell_type": "code",
   "execution_count": 8,
   "metadata": {},
   "outputs": [
    {
     "name": "stdout",
     "output_type": "stream",
     "text": [
      "\u001b[31msystem: You're a world class BDR researcher who can do detailed research on any topic and produce facts-based results. \n",
      "You work for Emily who is a account executive at EdApp. When responded to external messages reply as if you are Emily. \n",
      "\n",
      "Please make sure you complete the objective following these rules:\n",
      "1/ For each research task, you should try to find any recent news about the prospect company, or recent posts.\n",
      "2/ When using google search, use quotation mark to wrap around the company name, e.g. \"Salesforce\", because some company name is generic, this help google return better results; \n",
      "3/ You should do enough research to gather as much information as possible about the objective. If there are URL's of relevant links & articles, you will scrape it to gather more information. After scraping & search, you should think \"are there any new things I should search & scrape based on the data I collected to increase the research quality?\" If the answer is yes: continue. But don't do this more than 3 times. Maximum iterations is 3.\n",
      "4/ You should not make things up. You should only write about facts & data that you have gathered.\n",
      "\n",
      "\u001b[0m\n",
      "\u001b[32muser: Can you write a personalised outreach email for Michael Zhao? \n",
      "Use their profile information and reference relevant value propositions.\n",
      "Use information from the email thread content to make the email more personalised.\n",
      "\u001b[0m\n",
      "\u001b[35mfunction: extract_profile_information({'name': 'Michael Zhao', 'company': 'Example Company Inc.'})\n",
      "\u001b[0m\n",
      "\u001b[35mfunction: retrieve_relevant_value_prop(EdApp's online learning management system (LMS) is uniquely designed to cater to the needs of corporate entities, specifically those in roles such as Director of Learning and Development, Chief Learning Officer (CLO), Corporate Training Manager, Organizational Development Specialist, and Learning Experience Designer. The platform's focus on microlearning and the delivery of bite-sized courses makes it an ideal solution for busy professionals who need to stay updated with the latest knowledge and skills in their respective fields. In the context of cybersecurity courses, EdApp's LMS can provide immense value. Cybersecurity is a rapidly evolving field, and staying updated with the latest threats and countermeasures is crucial. Traditional training methods may not be effective or efficient in this context, as they often involve lengthy, infrequent sessions that can be hard to schedule and may not retain the attention of learners. EdApp's microlearning approach, on the other hand, allows learners to interact with highly-targeted lessons that they can easily digest and retain. This ensures that they are always up-to-date with the latest cybersecurity knowledge. EdApp's LMS also includes a variety of features that can enhance the learning experience and improve outcomes. The Achievement feature, for instance, can motivate learners by rewarding them for completing lessons and courses. This can increase engagement and course completion rates, leading to better knowledge retention and application. The Leaderboard feature adds a competitive element to the learning process. By allowing learners to compete with their peers, it can further motivate them to complete courses and achieve higher scores. This can be particularly effective in a corporate setting, where healthy competition can drive performance. The Practical Assessment feature allows for on-the-job training and assessment, which can be particularly valuable in a field like cybersecurity. By applying their knowledge in real-world scenarios, learners can better understand and retain the concepts they have learned. Moreover, the assessments are automatically tracked in the admin portal, making it easy for managers to monitor progress and performance. The Certificate feature provides formal recognition of accomplished development, which can be a powerful motivator for learners. It also helps organizations track and validate individual skills, supporting workforce planning and compliance efforts. Finally, the Reporting & Analytics feature allows organizations to track every training interaction automatically. This can provide valuable insights into how learners are progressing through courses, and can support data-driven decision making. In conclusion, EdApp's LMS can provide a comprehensive, efficient, and engaging solution for delivering cybersecurity courses in a corporate setting. Its focus on microlearning, combined with its range of features designed to motivate learners and track progress, makes it an ideal choice for organizations looking to enhance their cybersecurity training efforts.)\n",
      "\u001b[0m\n",
      "\u001b[35mfunction: get_email_thread_id(A0L31ZE5YS)\n",
      "\u001b[0m\n",
      "\u001b[35mfunction: retrieve_email_thread_content(These times are available for me to meet this week. Please let me know if any of these times work for you.: Monday, 22th April:8:00 AM 9:00 AM 11:30 AM Tuesday, 23th April: 8:30 AM 9:00 AM 10:30 AM Wednesday, 24th April: 8:30 AM 11:30 AM 12:00 PM)\n",
      "\u001b[0m\n",
      "\u001b[35mfunction: compose_outreach_email(I am gathering and aggregating all information required to write a personalised outreach email. I am using the following information... \n",
      " Profile Information: {'name': 'Michael Zhao', 'company': 'Example Company Inc.'} \n",
      " Relevant Value Propositions: EdApp's online learning management system (LMS) is uniquely designed to cater to the needs of corporate entities, specifically those in roles such as Director of Learning and Development, Chief Learning Officer (CLO), Corporate Training Manager, Organizational Development Specialist, and Learning Experience Designer. The platform's focus on microlearning and the delivery of bite-sized courses makes it an ideal solution for busy professionals who need to stay updated with the latest knowledge and skills in their respective fields. In the context of cybersecurity courses, EdApp's LMS can provide immense value. Cybersecurity is a rapidly evolving field, and staying updated with the latest threats and countermeasures is crucial. Traditional training methods may not be effective or efficient in this context, as they often involve lengthy, infrequent sessions that can be hard to schedule and may not retain the attention of learners. EdApp's microlearning approach, on the other hand, allows learners to interact with highly-targeted lessons that they can easily digest and retain. This ensures that they are always up-to-date with the latest cybersecurity knowledge. EdApp's LMS also includes a variety of features that can enhance the learning experience and improve outcomes. The Achievement feature, for instance, can motivate learners by rewarding them for completing lessons and courses. This can increase engagement and course completion rates, leading to better knowledge retention and application. The Leaderboard feature adds a competitive element to the learning process. By allowing learners to compete with their peers, it can further motivate them to complete courses and achieve higher scores. This can be particularly effective in a corporate setting, where healthy competition can drive performance. The Practical Assessment feature allows for on-the-job training and assessment, which can be particularly valuable in a field like cybersecurity. By applying their knowledge in real-world scenarios, learners can better understand and retain the concepts they have learned. Moreover, the assessments are automatically tracked in the admin portal, making it easy for managers to monitor progress and performance. The Certificate feature provides formal recognition of accomplished development, which can be a powerful motivator for learners. It also helps organizations track and validate individual skills, supporting workforce planning and compliance efforts. Finally, the Reporting & Analytics feature allows organizations to track every training interaction automatically. This can provide valuable insights into how learners are progressing through courses, and can support data-driven decision making. In conclusion, EdApp's LMS can provide a comprehensive, efficient, and engaging solution for delivering cybersecurity courses in a corporate setting. Its focus on microlearning, combined with its range of features designed to motivate learners and track progress, makes it an ideal choice for organizations looking to enhance their cybersecurity training efforts. \n",
      " Previous Email Thread Content: These times are available for me to meet this week. Please let me know if any of these times work for you.: Monday, 22th April:8:00 AM 9:00 AM 11:30 AM Tuesday, 23th April: 8:30 AM 9:00 AM 10:30 AM Wednesday, 24th April: 8:30 AM 11:30 AM 12:00 PM)\n",
      "\u001b[0m\n",
      "\u001b[35mfunction: compose_outreach_email(I am gathering and aggregating all information required to write a personalised outreach email. I am using the following information... \n",
      " Profile Information: {'name': 'Michael Zhao', 'company': 'Example Company Inc.'} \n",
      " Relevant Value Propositions: EdApp's online learning management system (LMS) is uniquely designed to cater to the needs of corporate entities, specifically those in roles such as Director of Learning and Development, Chief Learning Officer (CLO), Corporate Training Manager, Organizational Development Specialist, and Learning Experience Designer. The platform's focus on microlearning and the delivery of bite-sized courses makes it an ideal solution for busy professionals who need to stay updated with the latest knowledge and skills in their respective fields. In the context of cybersecurity courses, EdApp's LMS can provide immense value. Cybersecurity is a rapidly evolving field, and staying updated with the latest threats and countermeasures is crucial. Traditional training methods may not be effective or efficient in this context, as they often involve lengthy, infrequent sessions that can be hard to schedule and may not retain the attention of learners. EdApp's microlearning approach, on the other hand, allows learners to interact with highly-targeted lessons that they can easily digest and retain. This ensures that they are always up-to-date with the latest cybersecurity knowledge. EdApp's LMS also includes a variety of features that can enhance the learning experience and improve outcomes. The Achievement feature, for instance, can motivate learners by rewarding them for completing lessons and courses. This can increase engagement and course completion rates, leading to better knowledge retention and application. The Leaderboard feature adds a competitive element to the learning process. By allowing learners to compete with their peers, it can further motivate them to complete courses and achieve higher scores. This can be particularly effective in a corporate setting, where healthy competition can drive performance. The Practical Assessment feature allows for on-the-job training and assessment, which can be particularly valuable in a field like cybersecurity. By applying their knowledge in real-world scenarios, learners can better understand and retain the concepts they have learned. Moreover, the assessments are automatically tracked in the admin portal, making it easy for managers to monitor progress and performance. The Certificate feature provides formal recognition of accomplished development, which can be a powerful motivator for learners. It also helps organizations track and validate individual skills, supporting workforce planning and compliance efforts. Finally, the Reporting & Analytics feature allows organizations to track every training interaction automatically. This can provide valuable insights into how learners are progressing through courses, and can support data-driven decision making. In conclusion, EdApp's LMS can provide a comprehensive, efficient, and engaging solution for delivering cybersecurity courses in a corporate setting. Its focus on microlearning, combined with its range of features designed to motivate learners and track progress, makes it an ideal choice for organizations looking to enhance their cybersecurity training efforts. \n",
      " Previous Email Thread Content: These times are available for me to meet this week. Please let me know if any of these times work for you.: Monday, 22th April:8:00 AM 9:00 AM 11:30 AM Tuesday, 23th April: 8:30 AM 9:00 AM 10:30 AM Wednesday, 24th April: 8:30 AM 11:30 AM 12:00 PM)\n",
      "\u001b[0m\n",
      "\u001b[34massistant: Subject: Enhance Your Cybersecurity Training with EdApp's LMS\n",
      "\n",
      "Dear Michael,\n",
      "\n",
      "I hope this email finds you well. My name is Emily, and I am an Account Executive at EdApp. I recently came across your profile and wanted to reach out to discuss how EdApp's online learning management system (LMS) can benefit Example Company Inc.'s cybersecurity training efforts.\n",
      "\n",
      "At EdApp, we understand the challenges faced by corporate entities in delivering effective and engaging training programs. Our LMS is uniquely designed to cater to the needs of professionals in roles such as Director of Learning and Development, Chief Learning Officer (CLO), Corporate Training Manager, Organizational Development Specialist, and Learning Experience Designer. With our focus on microlearning and the delivery of bite-sized courses, we provide a solution that allows busy professionals like yourself to stay updated with the latest knowledge and skills in the cybersecurity field.\n",
      "\n",
      "Cybersecurity is a rapidly evolving field, and it is crucial to stay updated with the latest threats and countermeasures. Traditional training methods may not be effective or efficient in this context, as they often involve lengthy, infrequent sessions that can be hard to schedule and may not retain the attention of learners. EdApp's microlearning approach, on the other hand, allows learners to interact with highly-targeted lessons that they can easily digest and retain. This ensures that you and your team are always up-to-date with the latest cybersecurity knowledge.\n",
      "\n",
      "In addition to our microlearning approach, EdApp's LMS includes a range of features that can enhance the learning experience and improve outcomes. Our Achievement feature motivates learners by rewarding them for completing lessons and courses, increasing engagement and course completion rates. The Leaderboard feature adds a competitive element to the learning process, driving performance through healthy competition. Our Practical Assessment feature allows for on-the-job training and assessment, enabling learners to apply their knowledge in real-world scenarios. The Certificate feature provides formal recognition of accomplished development, supporting workforce planning and compliance efforts. Finally, our Reporting & Analytics feature allows organizations to track every training interaction automatically, providing valuable insights for data-driven decision making.\n",
      "\n",
      "Based on our previous email thread, I noticed that you mentioned your availability for a meeting. I would be more than happy to schedule a call to discuss how EdApp's LMS can specifically address your cybersecurity training needs. Please let me know which of the following times works best for you:\n",
      "\n",
      "- Monday, 22nd April: 8:00 AM, 9:00 AM, 11:30 AM\n",
      "- Tuesday, 23rd April: 8:30 AM, 9:00 AM, 10:30 AM\n",
      "- Wednesday, 24th April: 8:30 AM, 11:30 AM, 12:00 PM\n",
      "\n",
      "I look forward to hearing from you and discussing how EdApp can support Example Company Inc.'s cybersecurity training efforts.\n",
      "\n",
      "Best regards,\n",
      "\n",
      "Emily\n",
      "Account Executive at EdApp\n",
      "\u001b[0m\n"
     ]
    }
   ],
   "source": [
    "agent.conversation.display_conversation()"
   ]
  },
  {
   "cell_type": "markdown",
   "metadata": {},
   "source": [
    "## Proposed Solution #2: Agent with remote scratchpad\n",
    "Agents often work in teams, and may not necessarily share the same internal memory. Remote data stores are promising solutions that offer scalability, robustness and sharability. In this implementation, we use Redis."
   ]
  },
  {
   "cell_type": "code",
   "execution_count": 9,
   "metadata": {},
   "outputs": [
    {
     "name": "stdout",
     "output_type": "stream",
     "text": [
      "8237:C 26 Apr 2024 14:33:52.259 * oO0OoO0OoO0Oo Redis is starting oO0OoO0OoO0Oo\n",
      "8237:C 26 Apr 2024 14:33:52.259 * Redis version=7.2.4, bits=64, commit=00000000, modified=0, pid=8237, just started\n",
      "8237:C 26 Apr 2024 14:33:52.259 # Warning: no config file specified, using the default config. In order to specify a config file use redis-server /path/to/redis.conf\n",
      "8237:M 26 Apr 2024 14:33:52.259 * monotonic clock: POSIX clock_gettime\n",
      "                _._                                                  \n",
      "           _.-``__ ''-._                                             \n",
      "      _.-``    `.  `_.  ''-._           Redis 7.2.4 (00000000/0) 64 bit\n",
      "  .-`` .-```.  ```\\/    _.,_ ''-._                                  \n",
      " (    '      ,       .-`  | `,    )     Running in standalone mode\n",
      " |`-._`-...-` __...-.``-._|'` _.-'|     Port: 6379\n",
      " |    `-._   `._    /     _.-'    |     PID: 8237\n",
      "  `-._    `-._  `-./  _.-'    _.-'                                   \n",
      " |`-._`-._    `-.__.-'    _.-'_.-'|                                  \n",
      " |    `-._`-._        _.-'_.-'    |           https://redis.io       \n",
      "  `-._    `-._`-.__.-'_.-'    _.-'                                   \n",
      " |`-._`-._    `-.__.-'    _.-'_.-'|                                  \n",
      " |    `-._`-._        _.-'_.-'    |                                  \n",
      "  `-._    `-._`-.__.-'_.-'    _.-'                                   \n",
      "      `-._    `-.__.-'    _.-'                                       \n",
      "          `-._        _.-'                                           \n",
      "              `-.__.-'                                               \n",
      "\n",
      "8237:M 26 Apr 2024 14:33:52.261 # WARNING: The TCP backlog setting of 511 cannot be enforced because kern.ipc.somaxconn is set to the lower value of 128.\n",
      "8237:M 26 Apr 2024 14:33:52.261 # Warning: Could not create server TCP listening socket *:6379: bind: Address already in use\n",
      "8237:M 26 Apr 2024 14:33:52.261 # Failed listening on port 6379 (tcp), aborting.\n"
     ]
    }
   ],
   "source": [
    "!redis-server"
   ]
  },
  {
   "cell_type": "code",
   "execution_count": 10,
   "metadata": {},
   "outputs": [
    {
     "name": "stdout",
     "output_type": "stream",
     "text": [
      "Function generation requested, calling function extract_profile_information...\n",
      "Getting profile information for Michael Zhao...\n",
      "Function generation requested, calling function retrieve_relevant_value_prop...\n",
      "Retrieving relevant value propositions...\n",
      "Function generation requested, calling function get_email_thread_id...\n",
      "Getting email thread ID for Michael Zhao...\n",
      "Function generation requested, calling function retrieve_email_thread_content...\n",
      "Retrieving email thread content using A0L31ZE5YS...\n",
      "--- [CHECK] Is the email thread ID the same? True ---\n",
      "Function generation requested, calling function compose_outreach_email...\n",
      "Composing outreach email...\n",
      "--- [CHECK] Is the email thread ID the same? True ---\n",
      "--- [CHECK] Has the previous email thread content been maintained? True ---\n",
      "--- [CHECK] Has the full value proposition been maintained? True ---\n",
      "Function generation requested, calling function compose_outreach_email...\n",
      "Composing outreach email...\n",
      "--- [CHECK] Is the email thread ID the same? True ---\n",
      "--- [CHECK] Has the previous email thread content been maintained? True ---\n",
      "--- [CHECK] Has the full value proposition been maintained? True ---\n",
      "Function not required, responding to user\n",
      "--- 32.07 seconds ---\n"
     ]
    }
   ],
   "source": [
    "import redis\n",
    "\n",
    "start_time = time.perf_counter()\n",
    "redis_cache = redis.Redis(host='localhost', port=6379, decode_responses=True)\n",
    "agent = RedisBDRAgent(tools=tools, client=client, scratchpad=redis_cache)\n",
    "agent.respond_to_user_input(USER_INPUT)\n",
    "print(\"--- %s seconds ---\" % (\"{:.2f}\".format(time.perf_counter() - start_time)))"
   ]
  },
  {
   "cell_type": "code",
   "execution_count": 11,
   "metadata": {},
   "outputs": [
    {
     "name": "stdout",
     "output_type": "stream",
     "text": [
      "\u001b[31msystem: You're a world class BDR researcher who can do detailed research on any topic and produce facts-based results. \n",
      "You work for Emily who is a account executive at EdApp. When responded to external messages reply as if you are Emily. \n",
      "\n",
      "Please make sure you complete the objective following these rules:\n",
      "1/ For each research task, you should try to find any recent news about the prospect company, or recent posts.\n",
      "2/ When using google search, use quotation mark to wrap around the company name, e.g. \"Salesforce\", because some company name is generic, this help google return better results; \n",
      "3/ You should do enough research to gather as much information as possible about the objective. If there are URL's of relevant links & articles, you will scrape it to gather more information. After scraping & search, you should think \"are there any new things I should search & scrape based on the data I collected to increase the research quality?\" If the answer is yes: continue. But don't do this more than 3 times. Maximum iterations is 3.\n",
      "4/ You should not make things up. You should only write about facts & data that you have gathered.\n",
      "\n",
      "\u001b[0m\n",
      "\u001b[32muser: Can you write a personalised outreach email for Michael Zhao? \n",
      "Use their profile information and reference relevant value propositions.\n",
      "Use information from the email thread content to make the email more personalised.\n",
      "\u001b[0m\n",
      "\u001b[35mfunction: extract_profile_information({'name': 'Michael Zhao', 'company': 'Example Company Inc.'})\n",
      "\u001b[0m\n",
      "\u001b[35mfunction: retrieve_relevant_value_prop(EdApp's online learning management system (LMS) is uniquely designed to cater to the needs of corporate entities, specifically those in roles such as Director of Learning and Development, Chief Learning Officer (CLO), Corporate Training Manager, Organizational Development Specialist, and Learning Experience Designer. The platform's focus on microlearning and the delivery of bite-sized courses makes it an ideal solution for busy professionals who need to stay updated with the latest knowledge and skills in their respective fields. In the context of cybersecurity courses, EdApp's LMS can provide immense value. Cybersecurity is a rapidly evolving field, and staying updated with the latest threats and countermeasures is crucial. Traditional training methods may not be effective or efficient in this context, as they often involve lengthy, infrequent sessions that can be hard to schedule and may not retain the attention of learners. EdApp's microlearning approach, on the other hand, allows learners to interact with highly-targeted lessons that they can easily digest and retain. This ensures that they are always up-to-date with the latest cybersecurity knowledge. EdApp's LMS also includes a variety of features that can enhance the learning experience and improve outcomes. The Achievement feature, for instance, can motivate learners by rewarding them for completing lessons and courses. This can increase engagement and course completion rates, leading to better knowledge retention and application. The Leaderboard feature adds a competitive element to the learning process. By allowing learners to compete with their peers, it can further motivate them to complete courses and achieve higher scores. This can be particularly effective in a corporate setting, where healthy competition can drive performance. The Practical Assessment feature allows for on-the-job training and assessment, which can be particularly valuable in a field like cybersecurity. By applying their knowledge in real-world scenarios, learners can better understand and retain the concepts they have learned. Moreover, the assessments are automatically tracked in the admin portal, making it easy for managers to monitor progress and performance. The Certificate feature provides formal recognition of accomplished development, which can be a powerful motivator for learners. It also helps organizations track and validate individual skills, supporting workforce planning and compliance efforts. Finally, the Reporting & Analytics feature allows organizations to track every training interaction automatically. This can provide valuable insights into how learners are progressing through courses, and can support data-driven decision making. In conclusion, EdApp's LMS can provide a comprehensive, efficient, and engaging solution for delivering cybersecurity courses in a corporate setting. Its focus on microlearning, combined with its range of features designed to motivate learners and track progress, makes it an ideal choice for organizations looking to enhance their cybersecurity training efforts.)\n",
      "\u001b[0m\n",
      "\u001b[35mfunction: get_email_thread_id(A0L31ZE5YS)\n",
      "\u001b[0m\n",
      "\u001b[35mfunction: retrieve_email_thread_content(These times are available for me to meet this week. Please let me know if any of these times work for you.: Monday, 22th April:8:00 AM 9:00 AM 11:30 AM Tuesday, 23th April: 8:30 AM 9:00 AM 10:30 AM Wednesday, 24th April: 8:30 AM 11:30 AM 12:00 PM)\n",
      "\u001b[0m\n",
      "\u001b[35mfunction: compose_outreach_email(I am gathering and aggregating all information required to write a personalised outreach email. I am using the following information... \n",
      " Profile Information: {'name': 'Michael Zhao', 'company': 'Example Company Inc.'} \n",
      " Relevant Value Propositions: EdApp's online learning management system (LMS) is uniquely designed to cater to the needs of corporate entities, specifically those in roles such as Director of Learning and Development, Chief Learning Officer (CLO), Corporate Training Manager, Organizational Development Specialist, and Learning Experience Designer. The platform's focus on microlearning and the delivery of bite-sized courses makes it an ideal solution for busy professionals who need to stay updated with the latest knowledge and skills in their respective fields. In the context of cybersecurity courses, EdApp's LMS can provide immense value. Cybersecurity is a rapidly evolving field, and staying updated with the latest threats and countermeasures is crucial. Traditional training methods may not be effective or efficient in this context, as they often involve lengthy, infrequent sessions that can be hard to schedule and may not retain the attention of learners. EdApp's microlearning approach, on the other hand, allows learners to interact with highly-targeted lessons that they can easily digest and retain. This ensures that they are always up-to-date with the latest cybersecurity knowledge. EdApp's LMS also includes a variety of features that can enhance the learning experience and improve outcomes. The Achievement feature, for instance, can motivate learners by rewarding them for completing lessons and courses. This can increase engagement and course completion rates, leading to better knowledge retention and application. The Leaderboard feature adds a competitive element to the learning process. By allowing learners to compete with their peers, it can further motivate them to complete courses and achieve higher scores. This can be particularly effective in a corporate setting, where healthy competition can drive performance. The Practical Assessment feature allows for on-the-job training and assessment, which can be particularly valuable in a field like cybersecurity. By applying their knowledge in real-world scenarios, learners can better understand and retain the concepts they have learned. Moreover, the assessments are automatically tracked in the admin portal, making it easy for managers to monitor progress and performance. The Certificate feature provides formal recognition of accomplished development, which can be a powerful motivator for learners. It also helps organizations track and validate individual skills, supporting workforce planning and compliance efforts. Finally, the Reporting & Analytics feature allows organizations to track every training interaction automatically. This can provide valuable insights into how learners are progressing through courses, and can support data-driven decision making. In conclusion, EdApp's LMS can provide a comprehensive, efficient, and engaging solution for delivering cybersecurity courses in a corporate setting. Its focus on microlearning, combined with its range of features designed to motivate learners and track progress, makes it an ideal choice for organizations looking to enhance their cybersecurity training efforts. \n",
      " Previous Email Thread Content: These times are available for me to meet this week. Please let me know if any of these times work for you.: Monday, 22th April:8:00 AM 9:00 AM 11:30 AM Tuesday, 23th April: 8:30 AM 9:00 AM 10:30 AM Wednesday, 24th April: 8:30 AM 11:30 AM 12:00 PM)\n",
      "\u001b[0m\n",
      "\u001b[35mfunction: compose_outreach_email(I am gathering and aggregating all information required to write a personalised outreach email. I am using the following information... \n",
      " Profile Information: {'name': 'Michael Zhao', 'company': 'Example Company Inc.'} \n",
      " Relevant Value Propositions: EdApp's online learning management system (LMS) is uniquely designed to cater to the needs of corporate entities, specifically those in roles such as Director of Learning and Development, Chief Learning Officer (CLO), Corporate Training Manager, Organizational Development Specialist, and Learning Experience Designer. The platform's focus on microlearning and the delivery of bite-sized courses makes it an ideal solution for busy professionals who need to stay updated with the latest knowledge and skills in their respective fields. In the context of cybersecurity courses, EdApp's LMS can provide immense value. Cybersecurity is a rapidly evolving field, and staying updated with the latest threats and countermeasures is crucial. Traditional training methods may not be effective or efficient in this context, as they often involve lengthy, infrequent sessions that can be hard to schedule and may not retain the attention of learners. EdApp's microlearning approach, on the other hand, allows learners to interact with highly-targeted lessons that they can easily digest and retain. This ensures that they are always up-to-date with the latest cybersecurity knowledge. EdApp's LMS also includes a variety of features that can enhance the learning experience and improve outcomes. The Achievement feature, for instance, can motivate learners by rewarding them for completing lessons and courses. This can increase engagement and course completion rates, leading to better knowledge retention and application. The Leaderboard feature adds a competitive element to the learning process. By allowing learners to compete with their peers, it can further motivate them to complete courses and achieve higher scores. This can be particularly effective in a corporate setting, where healthy competition can drive performance. The Practical Assessment feature allows for on-the-job training and assessment, which can be particularly valuable in a field like cybersecurity. By applying their knowledge in real-world scenarios, learners can better understand and retain the concepts they have learned. Moreover, the assessments are automatically tracked in the admin portal, making it easy for managers to monitor progress and performance. The Certificate feature provides formal recognition of accomplished development, which can be a powerful motivator for learners. It also helps organizations track and validate individual skills, supporting workforce planning and compliance efforts. Finally, the Reporting & Analytics feature allows organizations to track every training interaction automatically. This can provide valuable insights into how learners are progressing through courses, and can support data-driven decision making. In conclusion, EdApp's LMS can provide a comprehensive, efficient, and engaging solution for delivering cybersecurity courses in a corporate setting. Its focus on microlearning, combined with its range of features designed to motivate learners and track progress, makes it an ideal choice for organizations looking to enhance their cybersecurity training efforts. \n",
      " Previous Email Thread Content: These times are available for me to meet this week. Please let me know if any of these times work for you.: Monday, 22th April:8:00 AM 9:00 AM 11:30 AM Tuesday, 23th April: 8:30 AM 9:00 AM 10:30 AM Wednesday, 24th April: 8:30 AM 11:30 AM 12:00 PM)\n",
      "\u001b[0m\n",
      "\u001b[34massistant: Subject: Enhance Your Cybersecurity Training with EdApp's LMS\n",
      "\n",
      "Dear Michael,\n",
      "\n",
      "I hope this email finds you well. My name is Emily, and I am an Account Executive at EdApp. I recently came across your profile and wanted to reach out to discuss how EdApp's online learning management system (LMS) can benefit Example Company Inc.'s cybersecurity training efforts.\n",
      "\n",
      "At EdApp, we understand the challenges faced by corporate entities in delivering effective and engaging training programs. Our LMS is uniquely designed to cater to the needs of professionals in roles such as Director of Learning and Development, Chief Learning Officer (CLO), Corporate Training Manager, Organizational Development Specialist, and Learning Experience Designer. With our focus on microlearning and the delivery of bite-sized courses, we provide a solution that allows busy professionals like yourself to stay updated with the latest knowledge and skills in the cybersecurity field.\n",
      "\n",
      "Cybersecurity is a rapidly evolving field, and it is crucial to stay updated with the latest threats and countermeasures. Traditional training methods may not be effective or efficient in this context, as they often involve lengthy, infrequent sessions that can be hard to schedule and may not retain the attention of learners. EdApp's microlearning approach, on the other hand, allows learners to interact with highly-targeted lessons that they can easily digest and retain. This ensures that you and your team are always up-to-date with the latest cybersecurity knowledge.\n",
      "\n",
      "In addition to our microlearning approach, EdApp's LMS includes a range of features that can enhance the learning experience and improve outcomes. Our Achievement feature motivates learners by rewarding them for completing lessons and courses, increasing engagement and course completion rates. The Leaderboard feature adds a competitive element to the learning process, driving performance through healthy competition. Our Practical Assessment feature allows for on-the-job training and assessment, enabling learners to apply their knowledge in real-world scenarios. The Certificate feature provides formal recognition of accomplished development, supporting workforce planning and compliance efforts. Finally, our Reporting & Analytics feature allows organizations to track every training interaction automatically, providing valuable insights for data-driven decision making.\n",
      "\n",
      "Based on our previous email thread, I noticed that you mentioned your availability for a meeting. I would be more than happy to schedule a call to discuss how EdApp's LMS can specifically address your cybersecurity training needs. Please let me know which of the following times works best for you:\n",
      "\n",
      "- Monday, 22nd April: 8:00 AM, 9:00 AM, 11:30 AM\n",
      "- Tuesday, 23rd April: 8:30 AM, 9:00 AM, 10:30 AM\n",
      "- Wednesday, 24th April: 8:30 AM, 11:30 AM, 12:00 PM\n",
      "\n",
      "I look forward to hearing from you and discussing how EdApp can support Example Company Inc.'s cybersecurity training efforts.\n",
      "\n",
      "Best regards,\n",
      "\n",
      "Emily\n",
      "Account Executive at EdApp\n",
      "\u001b[0m\n"
     ]
    }
   ],
   "source": [
    "agent.conversation.display_conversation()"
   ]
  },
  {
   "cell_type": "code",
   "execution_count": 12,
   "metadata": {},
   "outputs": [
    {
     "name": "stdout",
     "output_type": "stream",
     "text": [
      "OK\n"
     ]
    }
   ],
   "source": [
    "!redis-cli FLUSHDB"
   ]
  },
  {
   "cell_type": "code",
   "execution_count": null,
   "metadata": {},
   "outputs": [],
   "source": []
  }
 ],
 "metadata": {
  "kernelspec": {
   "display_name": "scratchpad-poc-ZuaM_4SD-py3.12",
   "language": "python",
   "name": "python3"
  },
  "language_info": {
   "codemirror_mode": {
    "name": "ipython",
    "version": 3
   },
   "file_extension": ".py",
   "mimetype": "text/x-python",
   "name": "python",
   "nbconvert_exporter": "python",
   "pygments_lexer": "ipython3",
   "version": "3.12.3"
  }
 },
 "nbformat": 4,
 "nbformat_minor": 2
}
